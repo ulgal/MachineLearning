{
 "cells": [
  {
   "cell_type": "code",
   "execution_count": 1,
   "metadata": {},
   "outputs": [
    {
     "name": "stderr",
     "output_type": "stream",
     "text": [
      "Using TensorFlow backend.\n"
     ]
    }
   ],
   "source": [
    "from __future__ import print_function\n",
    "import numpy as np\n",
    "from keras.layers.core import Dense, Activation, Dropout\n",
    "from keras.models import Sequential\n",
    "from keras.datasets import mnist\n",
    "from keras.optimizers import SGD, RMSprop, Adam\n",
    "from keras.utils import np_utils\n",
    "import matplotlib.pyplot as plt"
   ]
  },
  {
   "cell_type": "code",
   "execution_count": 2,
   "metadata": {},
   "outputs": [
    {
     "name": "stdout",
     "output_type": "stream",
     "text": [
      "60000 train samples\n",
      "10000 test samples\n"
     ]
    }
   ],
   "source": [
    "# basic Neural Network\n",
    "\n",
    "# 재현을 위한 설정\n",
    "np.random.seed(1671)\n",
    "\n",
    "# 네트워크와 학습 설정\n",
    "NB_EPOCH = 20\n",
    "BATCH_SIZE = 128\n",
    "VERBOSE = 1\n",
    "NB_CLASSES = 10 # 출력 범주, 숫자의 종류[0:9]\n",
    "OPTIMIZER = RMSprop() # RMSprop() optimizer\n",
    "N_HIDDEN = 128\n",
    "VALIDATION_SPLIT = 0.2 # 학습 데이터 중 얼마나 검증 데이터로 할당할 지 지정\n",
    "DROPOUT = 0.3\n",
    "# 데이터: 무작위로 섞고, 학습 데이터와 테스트 데이터로 나눔\n",
    "(X_train, y_train), (X_test, y_test) = mnist.load_data()\n",
    "\n",
    "# X_train은 6만개의 행으로 구성, 28*28개의 값을 가지므로 60000*784 형태로 변환\n",
    "RESHAPED = 784\n",
    "X_train = X_train.reshape(60000, RESHAPED)\n",
    "X_test = X_test.reshape(10000, RESHAPED)\n",
    "X_train = X_train.astype('float32')\n",
    "X_test = X_test.astype('float32')\n",
    "\n",
    "# Normalization\n",
    "X_train /= 255\n",
    "X_test /= 255\n",
    "print(X_train.shape[0], 'train samples')\n",
    "print(X_test.shape[0], 'test samples')\n",
    "\n",
    "# 범주 벡터를 이진 범주 행렬로 변환\n",
    "Y_train = np_utils.to_categorical(y_train, NB_CLASSES)\n",
    "Y_test = np_utils.to_categorical(y_test, NB_CLASSES)"
   ]
  },
  {
   "cell_type": "code",
   "execution_count": 3,
   "metadata": {},
   "outputs": [
    {
     "name": "stderr",
     "output_type": "stream",
     "text": [
      "WARNING: Logging before flag parsing goes to stderr.\n",
      "W0813 17:15:23.938600  9520 deprecation_wrapper.py:119] From C:\\Users\\user\\Anaconda3\\lib\\site-packages\\keras\\backend\\tensorflow_backend.py:74: The name tf.get_default_graph is deprecated. Please use tf.compat.v1.get_default_graph instead.\n",
      "\n",
      "W0813 17:15:23.942600  9520 deprecation_wrapper.py:119] From C:\\Users\\user\\Anaconda3\\lib\\site-packages\\keras\\backend\\tensorflow_backend.py:517: The name tf.placeholder is deprecated. Please use tf.compat.v1.placeholder instead.\n",
      "\n",
      "W0813 17:15:23.945600  9520 deprecation_wrapper.py:119] From C:\\Users\\user\\Anaconda3\\lib\\site-packages\\keras\\backend\\tensorflow_backend.py:4138: The name tf.random_uniform is deprecated. Please use tf.random.uniform instead.\n",
      "\n",
      "W0813 17:15:23.979600  9520 deprecation_wrapper.py:119] From C:\\Users\\user\\Anaconda3\\lib\\site-packages\\keras\\backend\\tensorflow_backend.py:133: The name tf.placeholder_with_default is deprecated. Please use tf.compat.v1.placeholder_with_default instead.\n",
      "\n",
      "W0813 17:15:23.988600  9520 deprecation.py:506] From C:\\Users\\user\\Anaconda3\\lib\\site-packages\\keras\\backend\\tensorflow_backend.py:3445: calling dropout (from tensorflow.python.ops.nn_ops) with keep_prob is deprecated and will be removed in a future version.\n",
      "Instructions for updating:\n",
      "Please use `rate` instead of `keep_prob`. Rate should be set to `rate = 1 - keep_prob`.\n"
     ]
    },
    {
     "name": "stdout",
     "output_type": "stream",
     "text": [
      "_________________________________________________________________\n",
      "Layer (type)                 Output Shape              Param #   \n",
      "=================================================================\n",
      "dense_1 (Dense)              (None, 128)               100480    \n",
      "_________________________________________________________________\n",
      "activation_1 (Activation)    (None, 128)               0         \n",
      "_________________________________________________________________\n",
      "dropout_1 (Dropout)          (None, 128)               0         \n",
      "_________________________________________________________________\n",
      "dense_2 (Dense)              (None, 128)               16512     \n",
      "_________________________________________________________________\n",
      "activation_2 (Activation)    (None, 128)               0         \n",
      "_________________________________________________________________\n",
      "dropout_2 (Dropout)          (None, 128)               0         \n",
      "_________________________________________________________________\n",
      "dense_3 (Dense)              (None, 10)                1290      \n",
      "_________________________________________________________________\n",
      "activation_3 (Activation)    (None, 10)                0         \n",
      "=================================================================\n",
      "Total params: 118,282\n",
      "Trainable params: 118,282\n",
      "Non-trainable params: 0\n",
      "_________________________________________________________________\n"
     ]
    }
   ],
   "source": [
    "# 10개 출력\n",
    "# 최종 단계는 softmax\n",
    "\n",
    "model = Sequential()\n",
    "model.add(Dense(N_HIDDEN, input_shape=(RESHAPED, )))\n",
    "model.add(Activation('relu'))\n",
    "model.add(Dropout(DROPOUT))\n",
    "model.add(Dense(N_HIDDEN))\n",
    "model.add(Activation('relu'))\n",
    "model.add(Dropout(DROPOUT))\n",
    "model.add(Dense(NB_CLASSES))\n",
    "model.add(Activation('softmax'))\n",
    "model.summary()"
   ]
  },
  {
   "cell_type": "code",
   "execution_count": 4,
   "metadata": {},
   "outputs": [
    {
     "name": "stderr",
     "output_type": "stream",
     "text": [
      "W0813 17:15:24.088600  9520 deprecation_wrapper.py:119] From C:\\Users\\user\\Anaconda3\\lib\\site-packages\\keras\\optimizers.py:790: The name tf.train.Optimizer is deprecated. Please use tf.compat.v1.train.Optimizer instead.\n",
      "\n",
      "W0813 17:15:24.114600  9520 deprecation_wrapper.py:119] From C:\\Users\\user\\Anaconda3\\lib\\site-packages\\keras\\backend\\tensorflow_backend.py:3295: The name tf.log is deprecated. Please use tf.math.log instead.\n",
      "\n"
     ]
    }
   ],
   "source": [
    "model.compile(loss = 'categorical_crossentropy', optimizer=OPTIMIZER, metrics=['accuracy'])"
   ]
  },
  {
   "cell_type": "code",
   "execution_count": 5,
   "metadata": {},
   "outputs": [
    {
     "name": "stderr",
     "output_type": "stream",
     "text": [
      "W0813 17:15:24.252600  9520 deprecation.py:323] From C:\\Users\\user\\Anaconda3\\lib\\site-packages\\tensorflow\\python\\ops\\math_grad.py:1250: add_dispatch_support.<locals>.wrapper (from tensorflow.python.ops.array_ops) is deprecated and will be removed in a future version.\n",
      "Instructions for updating:\n",
      "Use tf.where in 2.0, which has the same broadcast rule as np.where\n"
     ]
    },
    {
     "name": "stdout",
     "output_type": "stream",
     "text": [
      "Train on 48000 samples, validate on 12000 samples\n",
      "Epoch 1/20\n",
      "48000/48000 [==============================] - 3s 67us/step - loss: 0.4773 - acc: 0.8573 - val_loss: 0.1834 - val_acc: 0.9454\n",
      "Epoch 2/20\n",
      "48000/48000 [==============================] - 2s 52us/step - loss: 0.2259 - acc: 0.9331 - val_loss: 0.1366 - val_acc: 0.9592\n",
      "Epoch 3/20\n",
      "48000/48000 [==============================] - 2s 51us/step - loss: 0.1739 - acc: 0.9484 - val_loss: 0.1180 - val_acc: 0.9661\n",
      "Epoch 4/20\n",
      "48000/48000 [==============================] - 2s 50us/step - loss: 0.1506 - acc: 0.9554 - val_loss: 0.1141 - val_acc: 0.9677\n",
      "Epoch 5/20\n",
      "48000/48000 [==============================] - 2s 51us/step - loss: 0.1344 - acc: 0.9599 - val_loss: 0.1014 - val_acc: 0.9716\n",
      "Epoch 6/20\n",
      "48000/48000 [==============================] - 2s 49us/step - loss: 0.1233 - acc: 0.9626 - val_loss: 0.0951 - val_acc: 0.9718\n",
      "Epoch 7/20\n",
      "48000/48000 [==============================] - 2s 51us/step - loss: 0.1124 - acc: 0.9666 - val_loss: 0.0977 - val_acc: 0.9731\n",
      "Epoch 8/20\n",
      "48000/48000 [==============================] - 2s 51us/step - loss: 0.1065 - acc: 0.9685 - val_loss: 0.0942 - val_acc: 0.9743\n",
      "Epoch 9/20\n",
      "48000/48000 [==============================] - 2s 49us/step - loss: 0.0985 - acc: 0.9706 - val_loss: 0.0959 - val_acc: 0.9761\n",
      "Epoch 10/20\n",
      "48000/48000 [==============================] - 2s 50us/step - loss: 0.0952 - acc: 0.9712 - val_loss: 0.0941 - val_acc: 0.9747\n",
      "Epoch 11/20\n",
      "48000/48000 [==============================] - 2s 49us/step - loss: 0.0883 - acc: 0.9733 - val_loss: 0.0952 - val_acc: 0.9758\n",
      "Epoch 12/20\n",
      "48000/48000 [==============================] - 2s 50us/step - loss: 0.0866 - acc: 0.9740 - val_loss: 0.0941 - val_acc: 0.9760\n",
      "Epoch 13/20\n",
      "48000/48000 [==============================] - 2s 49us/step - loss: 0.0859 - acc: 0.9743 - val_loss: 0.0941 - val_acc: 0.9757\n",
      "Epoch 14/20\n",
      "48000/48000 [==============================] - 3s 55us/step - loss: 0.0794 - acc: 0.9756 - val_loss: 0.0994 - val_acc: 0.9772\n",
      "Epoch 15/20\n",
      "48000/48000 [==============================] - 2s 45us/step - loss: 0.0788 - acc: 0.9765 - val_loss: 0.0966 - val_acc: 0.9778\n",
      "Epoch 16/20\n",
      "48000/48000 [==============================] - 2s 45us/step - loss: 0.0760 - acc: 0.9774 - val_loss: 0.0955 - val_acc: 0.9775\n",
      "Epoch 17/20\n",
      "48000/48000 [==============================] - 2s 45us/step - loss: 0.0752 - acc: 0.9781 - val_loss: 0.1035 - val_acc: 0.9758\n",
      "Epoch 18/20\n",
      "48000/48000 [==============================] - 2s 45us/step - loss: 0.0739 - acc: 0.9780 - val_loss: 0.1038 - val_acc: 0.9767\n",
      "Epoch 19/20\n",
      "48000/48000 [==============================] - 2s 47us/step - loss: 0.0725 - acc: 0.9789 - val_loss: 0.1087 - val_acc: 0.9756\n",
      "Epoch 20/20\n",
      "48000/48000 [==============================] - 2s 47us/step - loss: 0.0699 - acc: 0.9798 - val_loss: 0.1020 - val_acc: 0.9787\n"
     ]
    }
   ],
   "source": [
    "history = model.fit(X_train, Y_train, batch_size=BATCH_SIZE, epochs=NB_EPOCH, verbose=VERBOSE, validation_split=VALIDATION_SPLIT)"
   ]
  },
  {
   "cell_type": "code",
   "execution_count": 6,
   "metadata": {},
   "outputs": [
    {
     "name": "stdout",
     "output_type": "stream",
     "text": [
      "10000/10000 [==============================] - 0s 39us/step\n",
      "Test score:  0.09735717110430524\n",
      "Test accuracy:  0.9772\n"
     ]
    }
   ],
   "source": [
    "score = model.evaluate(X_test, Y_test, verbose=VERBOSE)\n",
    "print(\"Test score: \", score[0])\n",
    "print(\"Test accuracy: \", score[1])"
   ]
  },
  {
   "cell_type": "code",
   "execution_count": 7,
   "metadata": {},
   "outputs": [
    {
     "name": "stdout",
     "output_type": "stream",
     "text": [
      "dict_keys(['val_loss', 'val_acc', 'loss', 'acc'])\n"
     ]
    },
    {
     "data": {
      "text/plain": [
       "<function matplotlib.pyplot.show(*args, **kw)>"
      ]
     },
     "execution_count": 7,
     "metadata": {},
     "output_type": "execute_result"
    },
    {
     "data": {
      "image/png": "[encoded data removed]",
      "text/plain": [
       "<Figure size 432x288 with 1 Axes>"
      ]
     },
     "metadata": {
      "needs_background": "light"
     },
     "output_type": "display_data"
    }
   ],
   "source": [
    "# 히스토리의 모든 데이터 목록\n",
    "print(history.history.keys())\n",
    "# 정확도 히스토리를 요약\n",
    "plt.plot(history.history['acc'])\n",
    "plt.plot(history.history['val_acc'])\n",
    "plt.title('model accuracy')\n",
    "plt.ylabel('accuracy')\n",
    "plt.xlabel('epoch')\n",
    "plt.legend(['train', 'test'], loc='upper left')\n",
    "plt.show"
   ]
  },
  {
   "cell_type": "code",
   "execution_count": null,
   "metadata": {},
   "outputs": [],
   "source": []
  },
  {
   "cell_type": "code",
   "execution_count": 9,
   "metadata": {},
   "outputs": [],
   "source": [
    "OPTIMIZER = Adam()"
   ]
  },
  {
   "cell_type": "code",
   "execution_count": 10,
   "metadata": {},
   "outputs": [
    {
     "name": "stdout",
     "output_type": "stream",
     "text": [
      "_________________________________________________________________\n",
      "Layer (type)                 Output Shape              Param #   \n",
      "=================================================================\n",
      "dense_4 (Dense)              (None, 128)               100480    \n",
      "_________________________________________________________________\n",
      "activation_4 (Activation)    (None, 128)               0         \n",
      "_________________________________________________________________\n",
      "dropout_3 (Dropout)          (None, 128)               0         \n",
      "_________________________________________________________________\n",
      "dense_5 (Dense)              (None, 128)               16512     \n",
      "_________________________________________________________________\n",
      "activation_5 (Activation)    (None, 128)               0         \n",
      "_________________________________________________________________\n",
      "dropout_4 (Dropout)          (None, 128)               0         \n",
      "_________________________________________________________________\n",
      "dense_6 (Dense)              (None, 10)                1290      \n",
      "_________________________________________________________________\n",
      "activation_6 (Activation)    (None, 10)                0         \n",
      "=================================================================\n",
      "Total params: 118,282\n",
      "Trainable params: 118,282\n",
      "Non-trainable params: 0\n",
      "_________________________________________________________________\n"
     ]
    }
   ],
   "source": [
    "# 10개 출력\n",
    "# 최종 단계는 softmax\n",
    "\n",
    "model = Sequential()\n",
    "model.add(Dense(N_HIDDEN, input_shape=(RESHAPED, )))\n",
    "model.add(Activation('relu'))\n",
    "model.add(Dropout(DROPOUT))\n",
    "model.add(Dense(N_HIDDEN))\n",
    "model.add(Activation('relu'))\n",
    "model.add(Dropout(DROPOUT))\n",
    "model.add(Dense(NB_CLASSES))\n",
    "model.add(Activation('softmax'))\n",
    "model.summary()"
   ]
  },
  {
   "cell_type": "code",
   "execution_count": 11,
   "metadata": {},
   "outputs": [],
   "source": [
    "model.compile(loss = 'categorical_crossentropy', optimizer=OPTIMIZER, metrics=['accuracy'])"
   ]
  },
  {
   "cell_type": "code",
   "execution_count": 12,
   "metadata": {},
   "outputs": [
    {
     "name": "stdout",
     "output_type": "stream",
     "text": [
      "Train on 48000 samples, validate on 12000 samples\n",
      "Epoch 1/20\n",
      "48000/48000 [==============================] - 3s 55us/step - loss: 0.5223 - acc: 0.8421 - val_loss: 0.1948 - val_acc: 0.9418\n",
      "Epoch 2/20\n",
      "48000/48000 [==============================] - 2s 50us/step - loss: 0.2325 - acc: 0.9307 - val_loss: 0.1334 - val_acc: 0.9610\n",
      "Epoch 3/20\n",
      "48000/48000 [==============================] - 2s 49us/step - loss: 0.1768 - acc: 0.9471 - val_loss: 0.1230 - val_acc: 0.9636\n",
      "Epoch 4/20\n",
      "48000/48000 [==============================] - 2s 49us/step - loss: 0.1488 - acc: 0.9547 - val_loss: 0.1015 - val_acc: 0.9701\n",
      "Epoch 5/20\n",
      "48000/48000 [==============================] - 2s 50us/step - loss: 0.1286 - acc: 0.9602 - val_loss: 0.0949 - val_acc: 0.9717\n",
      "Epoch 6/20\n",
      "48000/48000 [==============================] - 2s 49us/step - loss: 0.1142 - acc: 0.9657 - val_loss: 0.0937 - val_acc: 0.9721\n",
      "Epoch 7/20\n",
      "48000/48000 [==============================] - 2s 50us/step - loss: 0.1025 - acc: 0.9684 - val_loss: 0.0856 - val_acc: 0.9750\n",
      "Epoch 8/20\n",
      "48000/48000 [==============================] - 2s 50us/step - loss: 0.0964 - acc: 0.9702 - val_loss: 0.0888 - val_acc: 0.9750\n",
      "Epoch 9/20\n",
      "48000/48000 [==============================] - 2s 50us/step - loss: 0.0914 - acc: 0.9708 - val_loss: 0.0864 - val_acc: 0.9749\n",
      "Epoch 10/20\n",
      "48000/48000 [==============================] - 2s 49us/step - loss: 0.0831 - acc: 0.9742 - val_loss: 0.0813 - val_acc: 0.9761\n",
      "Epoch 11/20\n",
      "48000/48000 [==============================] - 2s 50us/step - loss: 0.0779 - acc: 0.9754 - val_loss: 0.0826 - val_acc: 0.9772\n",
      "Epoch 12/20\n",
      "48000/48000 [==============================] - 2s 49us/step - loss: 0.0754 - acc: 0.9760 - val_loss: 0.0781 - val_acc: 0.9772\n",
      "Epoch 13/20\n",
      "48000/48000 [==============================] - 2s 50us/step - loss: 0.0694 - acc: 0.9772 - val_loss: 0.0826 - val_acc: 0.9768\n",
      "Epoch 14/20\n",
      "48000/48000 [==============================] - 2s 49us/step - loss: 0.0682 - acc: 0.9783 - val_loss: 0.0834 - val_acc: 0.9785\n",
      "Epoch 15/20\n",
      "48000/48000 [==============================] - 2s 48us/step - loss: 0.0666 - acc: 0.9782 - val_loss: 0.0802 - val_acc: 0.9761\n",
      "Epoch 16/20\n",
      "48000/48000 [==============================] - 2s 49us/step - loss: 0.0613 - acc: 0.9802 - val_loss: 0.0824 - val_acc: 0.9767\n",
      "Epoch 17/20\n",
      "48000/48000 [==============================] - 2s 48us/step - loss: 0.0605 - acc: 0.9813 - val_loss: 0.0769 - val_acc: 0.9792\n",
      "Epoch 18/20\n",
      "48000/48000 [==============================] - 2s 48us/step - loss: 0.0572 - acc: 0.9813 - val_loss: 0.0790 - val_acc: 0.9787\n",
      "Epoch 19/20\n",
      "48000/48000 [==============================] - 2s 48us/step - loss: 0.0546 - acc: 0.9822 - val_loss: 0.0777 - val_acc: 0.9783\n",
      "Epoch 20/20\n",
      "48000/48000 [==============================] - 2s 48us/step - loss: 0.0524 - acc: 0.9826 - val_loss: 0.0864 - val_acc: 0.9781\n"
     ]
    }
   ],
   "source": [
    "history = model.fit(X_train, Y_train, batch_size=BATCH_SIZE, epochs=NB_EPOCH, verbose=VERBOSE, validation_split=VALIDATION_SPLIT)"
   ]
  },
  {
   "cell_type": "code",
   "execution_count": 13,
   "metadata": {},
   "outputs": [
    {
     "name": "stdout",
     "output_type": "stream",
     "text": [
      "10000/10000 [==============================] - 0s 40us/step\n",
      "Test score:  0.08187744157911366\n",
      "Test accuracy:  0.9777\n"
     ]
    }
   ],
   "source": [
    "score = model.evaluate(X_test, Y_test, verbose=VERBOSE)\n",
    "print(\"Test score: \", score[0])\n",
    "print(\"Test accuracy: \", score[1])"
   ]
  },
  {
   "cell_type": "code",
   "execution_count": 14,
   "metadata": {},
   "outputs": [
    {
     "name": "stdout",
     "output_type": "stream",
     "text": [
      "dict_keys(['val_loss', 'val_acc', 'loss', 'acc'])\n"
     ]
    },
    {
     "data": {
      "text/plain": [
       "<function matplotlib.pyplot.show(*args, **kw)>"
      ]
     },
     "execution_count": 14,
     "metadata": {},
     "output_type": "execute_result"
    },
    {
     "data": {
      "image/png": "[encoded data removed]",
      "text/plain": [
       "<Figure size 432x288 with 1 Axes>"
      ]
     },
     "metadata": {
      "needs_background": "light"
     },
     "output_type": "display_data"
    }
   ],
   "source": [
    "# 히스토리의 모든 데이터 목록\n",
    "print(history.history.keys())\n",
    "# 정확도 히스토리를 요약\n",
    "plt.plot(history.history['acc'])\n",
    "plt.plot(history.history['val_acc'])\n",
    "plt.title('model accuracy')\n",
    "plt.ylabel('accuracy')\n",
    "plt.xlabel('epoch')\n",
    "plt.legend(['train', 'test'], loc='upper left')\n",
    "plt.show"
   ]
  },
  {
   "cell_type": "code",
   "execution_count": 15,
   "metadata": {},
   "outputs": [
    {
     "data": {
      "text/plain": [
       "<function matplotlib.pyplot.show(*args, **kw)>"
      ]
     },
     "execution_count": 15,
     "metadata": {},
     "output_type": "execute_result"
    },
    {
     "data": {
      "image/png": "[encoded data removed]",
      "text/plain": [
       "<Figure size 432x288 with 1 Axes>"
      ]
     },
     "metadata": {
      "needs_background": "light"
     },
     "output_type": "display_data"
    }
   ],
   "source": [
    "# 손실 히스토리를 요약\n",
    "plt.plot(history.history['loss'])\n",
    "plt.plot(history.history['val_loss'])\n",
    "plt.title('model loss')\n",
    "plt.ylabel('loss')\n",
    "plt.xlabel('epoch')\n",
    "plt.legend(['train', 'test'], loc='upper left')\n",
    "plt.show"
   ]
  },
  {
   "cell_type": "code",
   "execution_count": 8,
   "metadata": {},
   "outputs": [
    {
     "data": {
      "text/plain": [
       "<function matplotlib.pyplot.show(*args, **kw)>"
      ]
     },
     "execution_count": 8,
     "metadata": {},
     "output_type": "execute_result"
    },
    {
     "data": {
      "image/png": "[encoded data removed]",
      "text/plain": [
       "<Figure size 432x288 with 1 Axes>"
      ]
     },
     "metadata": {
      "needs_background": "light"
     },
     "output_type": "display_data"
    }
   ],
   "source": [
    "# 손실 히스토리를 요약\n",
    "plt.plot(history.history['loss'])\n",
    "plt.plot(history.history['val_loss'])\n",
    "plt.title('model loss')\n",
    "plt.ylabel('loss')\n",
    "plt.xlabel('epoch')\n",
    "plt.legend(['train', 'test'], loc='upper left')\n",
    "plt.show"
   ]
  }
 ],
 "metadata": {
  "kernelspec": {
   "display_name": "Python 3",
   "language": "python",
   "name": "python3"
  },
  "language_info": {
   "codemirror_mode": {
    "name": "ipython",
    "version": 3
   },
   "file_extension": ".py",
   "mimetype": "text/x-python",
   "name": "python",
   "nbconvert_exporter": "python",
   "pygments_lexer": "ipython3",
   "version": "3.7.3"
  }
 },
 "nbformat": 4,
 "nbformat_minor": 2
}
