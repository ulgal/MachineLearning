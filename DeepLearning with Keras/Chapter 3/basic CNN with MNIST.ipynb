{
 "cells": [
  {
   "cell_type": "code",
   "execution_count": 2,
   "metadata": {},
   "outputs": [],
   "source": [
    "from keras import backend as K\n",
    "from keras.models import Sequential\n",
    "from keras.layers.core import Dense, Activation, Dropout, Flatten\n",
    "from keras.layers.convolutional import Conv2D, MaxPooling2D\n",
    "from keras.datasets import mnist\n",
    "from keras.utils import np_utils\n",
    "from keras.optimizers import SGD, RMSprop, Adam\n",
    "import numpy as np\n",
    "import matplotlib.pyplot as plt"
   ]
  },
  {
   "cell_type": "code",
   "execution_count": 5,
   "metadata": {},
   "outputs": [],
   "source": [
    "# convnet 정의\n",
    "class LeNet:\n",
    "    @staticmethod\n",
    "    def build(input_shape, classes):\n",
    "        model = Sequential()\n",
    "        # CONV => RELU => POOL\n",
    "        model.add(Conv2D(20, kernel_size = 5, padding = \"same\", input_shape=input_shape))\n",
    "        model.add(Activation(\"relu\"))\n",
    "        model.add(MaxPooling2D(pool_size=(2,2), strides = (2,2)))\n",
    "        # CONV => RELU => POOL\n",
    "        model.add(Conv2D(50, kernel_size = 5, padding = \"same\"))\n",
    "        model.add(Activation(\"relu\"))\n",
    "        model.add(MaxPooling2D(pool_size=(2,2), strides = (2,2)))\n",
    "        # Flaten => ReLU 계층\n",
    "        model.add(Flatten())\n",
    "        model.add(Dense(500))\n",
    "        model.add(Activation(\"relu\"))\n",
    "        # 소프트맥스 분류기\n",
    "        model.add(Dense(classes))\n",
    "        model.add(Activation(\"softmax\"))"
   ]
  },
  {
   "cell_type": "code",
   "execution_count": 14,
   "metadata": {},
   "outputs": [],
   "source": [
    "NB_CLASSES = 10\n",
    "IMG_ROWS, IMG_COLS = 28, 28\n",
    "INPUT_SHAPE = (1, IMG_ROWS, IMG_COLS)\n",
    "model = Sequential()\n",
    "# CONV => RELU => POOL\n",
    "model.add(Conv2D(20, kernel_size = 5, padding = \"same\", input_shape=INPUT_SHAPE))\n",
    "model.add(Activation(\"relu\"))\n",
    "model.add(MaxPooling2D(pool_size=(2,2), strides = (2,2)))\n",
    "# CONV => RELU => POOL\n",
    "model.add(Conv2D(50, kernel_size = 5, padding = \"same\"))\n",
    "model.add(Activation(\"relu\"))\n",
    "model.add(MaxPooling2D(pool_size=(2,2), strides = (2,2)))\n",
    "# Flaten => ReLU 계층\n",
    "model.add(Flatten())\n",
    "model.add(Dense(500))\n",
    "model.add(Activation(\"relu\"))\n",
    "# 소프트맥스 분류기\n",
    "model.add(Dense(NB_CLASSES))\n",
    "model.add(Activation(\"softmax\"))"
   ]
  },
  {
   "cell_type": "code",
   "execution_count": 15,
   "metadata": {},
   "outputs": [
    {
     "name": "stdout",
     "output_type": "stream",
     "text": [
      "_________________________________________________________________\n",
      "Layer (type)                 Output Shape              Param #   \n",
      "=================================================================\n",
      "conv2d_9 (Conv2D)            (None, 20, 28, 28)        520       \n",
      "_________________________________________________________________\n",
      "activation_16 (Activation)   (None, 20, 28, 28)        0         \n",
      "_________________________________________________________________\n",
      "max_pooling2d_9 (MaxPooling2 (None, 20, 14, 14)        0         \n",
      "_________________________________________________________________\n",
      "conv2d_10 (Conv2D)           (None, 50, 14, 14)        25050     \n",
      "_________________________________________________________________\n",
      "activation_17 (Activation)   (None, 50, 14, 14)        0         \n",
      "_________________________________________________________________\n",
      "max_pooling2d_10 (MaxPooling (None, 50, 7, 7)          0         \n",
      "_________________________________________________________________\n",
      "flatten_5 (Flatten)          (None, 2450)              0         \n",
      "_________________________________________________________________\n",
      "dense_8 (Dense)              (None, 500)               1225500   \n",
      "_________________________________________________________________\n",
      "activation_18 (Activation)   (None, 500)               0         \n",
      "_________________________________________________________________\n",
      "dense_9 (Dense)              (None, 10)                5010      \n",
      "_________________________________________________________________\n",
      "activation_19 (Activation)   (None, 10)                0         \n",
      "=================================================================\n",
      "Total params: 1,256,080\n",
      "Trainable params: 1,256,080\n",
      "Non-trainable params: 0\n",
      "_________________________________________________________________\n"
     ]
    }
   ],
   "source": [
    "model.summary()"
   ]
  },
  {
   "cell_type": "code",
   "execution_count": 16,
   "metadata": {},
   "outputs": [
    {
     "name": "stdout",
     "output_type": "stream",
     "text": [
      "Train on 48000 samples, validate on 12000 samples\n",
      "Epoch 1/20\n",
      "48000/48000 [==============================] - 109s 2ms/step - loss: 0.1843 - acc: 0.9439 - val_loss: 0.0584 - val_acc: 0.9817\n",
      "Epoch 2/20\n",
      "48000/48000 [==============================] - 96s 2ms/step - loss: 0.0500 - acc: 0.9846 - val_loss: 0.0438 - val_acc: 0.9866\n",
      "Epoch 3/20\n",
      "48000/48000 [==============================] - 96s 2ms/step - loss: 0.0335 - acc: 0.9892 - val_loss: 0.0390 - val_acc: 0.9877\n",
      "Epoch 4/20\n",
      "48000/48000 [==============================] - 98s 2ms/step - loss: 0.0228 - acc: 0.9931 - val_loss: 0.0304 - val_acc: 0.9912\n",
      "Epoch 5/20\n",
      "48000/48000 [==============================] - 98s 2ms/step - loss: 0.0190 - acc: 0.9936 - val_loss: 0.0341 - val_acc: 0.9901\n",
      "Epoch 6/20\n",
      "48000/48000 [==============================] - 96s 2ms/step - loss: 0.0139 - acc: 0.9954 - val_loss: 0.0344 - val_acc: 0.9893\n",
      "Epoch 7/20\n",
      "48000/48000 [==============================] - 96s 2ms/step - loss: 0.0118 - acc: 0.9957 - val_loss: 0.0333 - val_acc: 0.9894\n",
      "Epoch 8/20\n",
      "48000/48000 [==============================] - 95s 2ms/step - loss: 0.0105 - acc: 0.9966 - val_loss: 0.0353 - val_acc: 0.9897\n",
      "Epoch 9/20\n",
      "48000/48000 [==============================] - 102s 2ms/step - loss: 0.0082 - acc: 0.9972 - val_loss: 0.0378 - val_acc: 0.9891\n",
      "Epoch 10/20\n",
      "48000/48000 [==============================] - 100s 2ms/step - loss: 0.0054 - acc: 0.9982 - val_loss: 0.0445 - val_acc: 0.9878\n",
      "Epoch 11/20\n",
      "48000/48000 [==============================] - 109s 2ms/step - loss: 0.0067 - acc: 0.9976 - val_loss: 0.0365 - val_acc: 0.9910\n",
      "Epoch 12/20\n",
      "48000/48000 [==============================] - 97s 2ms/step - loss: 0.0072 - acc: 0.9976 - val_loss: 0.0395 - val_acc: 0.9901\n",
      "Epoch 13/20\n",
      "48000/48000 [==============================] - 97s 2ms/step - loss: 0.0052 - acc: 0.9982 - val_loss: 0.0399 - val_acc: 0.9900\n",
      "Epoch 14/20\n",
      "48000/48000 [==============================] - 98s 2ms/step - loss: 0.0027 - acc: 0.9990 - val_loss: 0.0369 - val_acc: 0.9916\n",
      "Epoch 15/20\n",
      "48000/48000 [==============================] - 98s 2ms/step - loss: 0.0033 - acc: 0.9990 - val_loss: 0.0471 - val_acc: 0.9902\n",
      "Epoch 16/20\n",
      "48000/48000 [==============================] - 97s 2ms/step - loss: 0.0081 - acc: 0.9971 - val_loss: 0.0426 - val_acc: 0.9915\n",
      "Epoch 17/20\n",
      "48000/48000 [==============================] - 98s 2ms/step - loss: 0.0052 - acc: 0.9982 - val_loss: 0.0365 - val_acc: 0.9920\n",
      "Epoch 18/20\n",
      "48000/48000 [==============================] - 99s 2ms/step - loss: 0.0024 - acc: 0.9992 - val_loss: 0.0482 - val_acc: 0.9901\n",
      "Epoch 19/20\n",
      "48000/48000 [==============================] - 97s 2ms/step - loss: 0.0012 - acc: 0.9996 - val_loss: 0.0435 - val_acc: 0.9916\n",
      "Epoch 20/20\n",
      "48000/48000 [==============================] - 98s 2ms/step - loss: 0.0043 - acc: 0.9988 - val_loss: 0.0750 - val_acc: 0.9846\n",
      "10000/10000 [==============================] - 6s 584us/step\n",
      "\n",
      "Test score:  0.05663637402297454\n",
      "Test accuracy:  0.9884\n",
      "dict_keys(['val_loss', 'val_acc', 'loss', 'acc'])\n"
     ]
    },
    {
     "data": {
      "image/png": "[encoded data removed]",
      "text/plain": [
       "<Figure size 432x288 with 1 Axes>"
      ]
     },
     "metadata": {
      "needs_background": "light"
     },
     "output_type": "display_data"
    },
    {
     "data": {
      "image/png": "[encoded data removed]",
      "text/plain": [
       "<Figure size 432x288 with 1 Axes>"
      ]
     },
     "metadata": {
      "needs_background": "light"
     },
     "output_type": "display_data"
    }
   ],
   "source": [
    "# 신경망과 학습에 대한 설정\n",
    "NB_EPOCH = 20\n",
    "BATCH_SIZE = 128\n",
    "VERBOSE = 1\n",
    "OPTIMIZER = Adam()\n",
    "VALIDATION_SPLIT = 0.2\n",
    "IMG_ROWS, IMG_COLS = 28, 28 # 입력 이미지 차원\n",
    "NB_CLASSES = 10  # 출력 개수 = 숫자의 개수\n",
    "INPUT_SHAPE = (1, IMG_ROWS, IMG_COLS)\n",
    "\n",
    "#데이터 : 섞은 후에 학습 데이터와 테스트 데이터로 분할\n",
    "(X_train, y_train), (X_test, y_test) = mnist.load_data()\n",
    "K.set_image_dim_ordering(\"th\")\n",
    "\n",
    "#실수 형태로 지정하고 정규화\n",
    "X_train = X_train.astype('float32')\n",
    "X_test = X_test.astype('float32')\n",
    "X_train /= 255\n",
    "X_test /= 255\n",
    "\n",
    "# 60000개 * [1 * 28 * 28] 형태의 입력을 CONVNET에 전달\n",
    "X_train = X_train[:, np.newaxis, :, :]\n",
    "X_test = X_test[:, np.newaxis, :, :]\n",
    "\n",
    "# 클래스 벡터를 이진 클래스 행렬로 변환\n",
    "y_train = np_utils.to_categorical(y_train, NB_CLASSES)\n",
    "y_test = np_utils.to_categorical(y_test, NB_CLASSES)\n",
    "\n",
    "# 옵티마이저와 모델 초기화\n",
    "# model = LeNet.build(input_shape = INPUT_SHAPE, classes = NB_CLASSES)\n",
    "model.compile(loss = \"categorical_crossentropy\", optimizer = OPTIMIZER, metrics=[\"accuracy\"])\n",
    "history = model.fit(X_train, y_train, batch_size = BATCH_SIZE, epochs = NB_EPOCH, verbose=VERBOSE, validation_split=VALIDATION_SPLIT)\n",
    "\n",
    "score = model.evaluate(X_test, y_test, verbose=VERBOSE)\n",
    "print(\"\\nTest score: \", score[0])\n",
    "print(\"Test accuracy: \", score[1])\n",
    "\n",
    "# 히스토리에 있는 모든 데이터 나열\n",
    "print(history.history.keys())\n",
    "\n",
    "# 단순 정확도 히스토리 요약\n",
    "plt.plot(history.history['acc'])\n",
    "plt.plot(history.history['val_acc'])\n",
    "plt.title('model accuracy')\n",
    "plt.ylabel('accuracy')\n",
    "plt.xlabel('epoch')\n",
    "plt.legend(['train', 'test'], loc='upper left')\n",
    "plt.show()\n",
    "\n",
    "# 손실 히스토리 요약\n",
    "plt.plot(history.history['loss'])\n",
    "plt.plot(history.history['val_loss'])\n",
    "plt.title('model loss')\n",
    "plt.ylabel('loss')\n",
    "plt.xlabel('epoch')\n",
    "plt.legend(['train', 'test'], loc='upper left')\n",
    "plt.show()"
   ]
  }
 ],
 "metadata": {
  "kernelspec": {
   "display_name": "Python 3",
   "language": "python",
   "name": "python3"
  },
  "language_info": {
   "codemirror_mode": {
    "name": "ipython",
    "version": 3
   },
   "file_extension": ".py",
   "mimetype": "text/x-python",
   "name": "python",
   "nbconvert_exporter": "python",
   "pygments_lexer": "ipython3",
   "version": "3.7.3"
  }
 },
 "nbformat": 4,
 "nbformat_minor": 2
}
